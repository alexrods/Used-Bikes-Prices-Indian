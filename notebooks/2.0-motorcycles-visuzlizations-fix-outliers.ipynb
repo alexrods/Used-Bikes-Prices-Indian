{
 "cells": [
  {
   "cell_type": "code",
   "execution_count": 1,
   "metadata": {},
   "outputs": [],
   "source": [
    "import pandas as pd\n",
    "import numpy as np\n",
    "import seaborn as sns\n",
    "import matplotlib.pyplot as plt\n",
    "\n",
    "%matplotlib inline"
   ]
  },
  {
   "cell_type": "code",
   "execution_count": 2,
   "metadata": {},
   "outputs": [
    {
     "data": {
      "text/html": [
       "<div>\n",
       "<style scoped>\n",
       "    .dataframe tbody tr th:only-of-type {\n",
       "        vertical-align: middle;\n",
       "    }\n",
       "\n",
       "    .dataframe tbody tr th {\n",
       "        vertical-align: top;\n",
       "    }\n",
       "\n",
       "    .dataframe thead th {\n",
       "        text-align: right;\n",
       "    }\n",
       "</style>\n",
       "<table border=\"1\" class=\"dataframe\">\n",
       "  <thead>\n",
       "    <tr style=\"text-align: right;\">\n",
       "      <th></th>\n",
       "      <th>brand_name</th>\n",
       "      <th>model_name</th>\n",
       "      <th>motor_size</th>\n",
       "      <th>model_year</th>\n",
       "      <th>kms_driven</th>\n",
       "      <th>mileage</th>\n",
       "      <th>owner</th>\n",
       "      <th>power</th>\n",
       "      <th>price</th>\n",
       "    </tr>\n",
       "  </thead>\n",
       "  <tbody>\n",
       "    <tr>\n",
       "      <th>0</th>\n",
       "      <td>Bajaj</td>\n",
       "      <td>Avenger</td>\n",
       "      <td>220.0</td>\n",
       "      <td>2017</td>\n",
       "      <td>17000.0</td>\n",
       "      <td>35.0</td>\n",
       "      <td>1</td>\n",
       "      <td>19.0</td>\n",
       "      <td>63500</td>\n",
       "    </tr>\n",
       "    <tr>\n",
       "      <th>1</th>\n",
       "      <td>Royal-Enfield</td>\n",
       "      <td>Classic</td>\n",
       "      <td>350.0</td>\n",
       "      <td>2016</td>\n",
       "      <td>50000.0</td>\n",
       "      <td>35.0</td>\n",
       "      <td>1</td>\n",
       "      <td>19.8</td>\n",
       "      <td>115000</td>\n",
       "    </tr>\n",
       "    <tr>\n",
       "      <th>2</th>\n",
       "      <td>Hyosung</td>\n",
       "      <td>GT250R</td>\n",
       "      <td>250.0</td>\n",
       "      <td>2012</td>\n",
       "      <td>14795.0</td>\n",
       "      <td>30.0</td>\n",
       "      <td>1</td>\n",
       "      <td>28.0</td>\n",
       "      <td>300000</td>\n",
       "    </tr>\n",
       "    <tr>\n",
       "      <th>3</th>\n",
       "      <td>Bajaj</td>\n",
       "      <td>Dominar</td>\n",
       "      <td>400.0</td>\n",
       "      <td>2017</td>\n",
       "      <td>28.0</td>\n",
       "      <td>28.0</td>\n",
       "      <td>1</td>\n",
       "      <td>34.5</td>\n",
       "      <td>100000</td>\n",
       "    </tr>\n",
       "    <tr>\n",
       "      <th>4</th>\n",
       "      <td>Jawa</td>\n",
       "      <td>Perak</td>\n",
       "      <td>330.0</td>\n",
       "      <td>2020</td>\n",
       "      <td>2000.0</td>\n",
       "      <td>0.0</td>\n",
       "      <td>1</td>\n",
       "      <td>30.0</td>\n",
       "      <td>197500</td>\n",
       "    </tr>\n",
       "  </tbody>\n",
       "</table>\n",
       "</div>"
      ],
      "text/plain": [
       "      brand_name model_name  motor_size  model_year  kms_driven  mileage  \\\n",
       "0          Bajaj    Avenger       220.0        2017     17000.0     35.0   \n",
       "1  Royal-Enfield    Classic       350.0        2016     50000.0     35.0   \n",
       "2        Hyosung     GT250R       250.0        2012     14795.0     30.0   \n",
       "3          Bajaj    Dominar       400.0        2017        28.0     28.0   \n",
       "4           Jawa      Perak       330.0        2020      2000.0      0.0   \n",
       "\n",
       "   owner  power   price  \n",
       "0      1   19.0   63500  \n",
       "1      1   19.8  115000  \n",
       "2      1   28.0  300000  \n",
       "3      1   34.5  100000  \n",
       "4      1   30.0  197500  "
      ]
     },
     "execution_count": 2,
     "metadata": {},
     "output_type": "execute_result"
    }
   ],
   "source": [
    "df = pd.read_csv('../data/iterim/bikes-02-new_features.csv')\n",
    "df.head()"
   ]
  },
  {
   "cell_type": "code",
   "execution_count": null,
   "metadata": {},
   "outputs": [],
   "source": []
  }
 ],
 "metadata": {
  "interpreter": {
   "hash": "96c175eed2da5a849ea3d6d496fe7f46b333d566cae929cc6451c9762efc2f58"
  },
  "kernelspec": {
   "display_name": "Python 3.10.1 64-bit ('motorcycles-prices': conda)",
   "language": "python",
   "name": "python3"
  },
  "language_info": {
   "codemirror_mode": {
    "name": "ipython",
    "version": 3
   },
   "file_extension": ".py",
   "mimetype": "text/x-python",
   "name": "python",
   "nbconvert_exporter": "python",
   "pygments_lexer": "ipython3",
   "version": "3.10.1"
  },
  "orig_nbformat": 4
 },
 "nbformat": 4,
 "nbformat_minor": 2
}
