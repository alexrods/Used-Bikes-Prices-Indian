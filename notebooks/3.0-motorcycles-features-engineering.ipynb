{
 "cells": [
  {
   "cell_type": "code",
   "execution_count": 126,
   "metadata": {},
   "outputs": [],
   "source": [
    "import pandas as pd \n",
    "import numpy as np\n",
    "import os\n",
    "# Scikit-Learn\n",
    "from sklearn.compose import ColumnTransformer\n",
    "from sklearn.pipeline import Pipeline\n",
    "from sklearn.preprocessing import  OneHotEncoder, PowerTransformer\n",
    "from sklearn.linear_model import Ridge, Lasso\n",
    "from sklearn.ensemble import RandomForestRegressor, GradientBoostingRegressor\n",
    "from sklearn.model_selection import GridSearchCV \n",
    "from sklearn.model_selection import train_test_split \n",
    "from sklearn import metrics\n",
    "from xgboost import XGBRegressor\n",
    "\n",
    "import warnings \n",
    "warnings.filterwarnings('ignore')"
   ]
  },
  {
   "cell_type": "code",
   "execution_count": 72,
   "metadata": {},
   "outputs": [
    {
     "data": {
      "text/plain": [
       "Index(['brand_name', 'model_name', 'motor_size', 'years', 'kms_driven',\n",
       "       'mileage', 'owner', 'power', 'price'],\n",
       "      dtype='object')"
      ]
     },
     "execution_count": 72,
     "metadata": {},
     "output_type": "execute_result"
    }
   ],
   "source": [
    "DATA_DIR_iterim = '../data/iterim/'\n",
    "df = pd.read_csv(os.path.join(DATA_DIR_iterim, 'bikes-03-no_outliers.csv'))\n",
    "df.columns"
   ]
  },
  {
   "cell_type": "code",
   "execution_count": 73,
   "metadata": {},
   "outputs": [],
   "source": [
    "# Split dataset in features and target\n",
    "\n",
    "X = df.drop(['price'], axis=1)\n",
    "y = df['price']"
   ]
  },
  {
   "cell_type": "code",
   "execution_count": 85,
   "metadata": {},
   "outputs": [],
   "source": [
    "# Split in train and test data\n",
    "\n",
    "X_train, X_test, y_train, y_test = train_test_split(X, y, test_size=0.25) "
   ]
  },
  {
   "cell_type": "code",
   "execution_count": 105,
   "metadata": {},
   "outputs": [],
   "source": [
    "cat_features = ['brand_name', 'model_name']\n",
    "cat_transformer = OneHotEncoder(handle_unknown='ignore')\n",
    "\n",
    "num_features = ['motor_size', 'years', 'kms_driven',\n",
    "                'mileage', 'power']\n",
    "num_transformer = PowerTransformer()\n",
    "\n",
    "column_transform = ColumnTransformer(\n",
    "    transformers=[\n",
    "        (\"num\", num_transformer, num_features),\n",
    "        (\"cat\", cat_transformer, cat_features)\n",
    "    ]\n",
    ")"
   ]
  },
  {
   "cell_type": "code",
   "execution_count": 106,
   "metadata": {},
   "outputs": [],
   "source": [
    "pipe = Pipeline([(\"col_trans\", column_transform),\n",
    "                 (\"regressor\", RandomForestRegressor())])\n",
    "\n",
    "grid_param = [\n",
    "                {\n",
    "                    \"regressor\": [GradientBoostingRegressor()]                 \n",
    "                },\n",
    "                 {\n",
    "                     \"regressor\": [Lasso()],\n",
    "                 },\n",
    "                 {\n",
    "                     \"regressor\": [Ridge()],\n",
    "                 },\n",
    "                {\n",
    "                    \"regressor\": [RandomForestRegressor()]\n",
    "                },\n",
    "                {\n",
    "                    \"regressor\": [XGBRegressor()]\n",
    "                }\n",
    "]\n",
    "\n",
    "gridsearch = GridSearchCV(pipe, grid_param, cv=6, verbose=0, n_jobs=-1)\n",
    "best_model = gridsearch.fit(X_train, y_train) "
   ]
  },
  {
   "cell_type": "code",
   "execution_count": 107,
   "metadata": {},
   "outputs": [
    {
     "data": {
      "text/plain": [
       "Pipeline(steps=[('col_trans',\n",
       "                 ColumnTransformer(transformers=[('num', PowerTransformer(),\n",
       "                                                  ['motor_size', 'years',\n",
       "                                                   'kms_driven', 'mileage',\n",
       "                                                   'power']),\n",
       "                                                 ('cat',\n",
       "                                                  OneHotEncoder(handle_unknown='ignore'),\n",
       "                                                  ['brand_name',\n",
       "                                                   'model_name'])])),\n",
       "                ('regressor', GradientBoostingRegressor())])"
      ]
     },
     "execution_count": 107,
     "metadata": {},
     "output_type": "execute_result"
    }
   ],
   "source": [
    "best_model.best_estimator_"
   ]
  },
  {
   "cell_type": "code",
   "execution_count": 119,
   "metadata": {},
   "outputs": [
    {
     "data": {
      "text/plain": [
       "0.918046834891031"
      ]
     },
     "execution_count": 119,
     "metadata": {},
     "output_type": "execute_result"
    }
   ],
   "source": [
    "best_model.score(X_test, y_test)\n"
   ]
  },
  {
   "cell_type": "code",
   "execution_count": 122,
   "metadata": {},
   "outputs": [],
   "source": [
    "import matplotlib.pyplot as plt\n",
    "import seaborn as sns"
   ]
  },
  {
   "cell_type": "code",
   "execution_count": 124,
   "metadata": {},
   "outputs": [
    {
     "data": {
      "image/png": "[encoded data removed]",
      "text/plain": [
       "<Figure size 432x288 with 1 Axes>"
      ]
     },
     "metadata": {
      "needs_background": "light"
     },
     "output_type": "display_data"
    }
   ],
   "source": [
    "y_pred = best_model.predict(X_test)\n",
    "sns.distplot(y_test - y_pred)\n",
    "plt.show()"
   ]
  },
  {
   "cell_type": "code",
   "execution_count": 125,
   "metadata": {},
   "outputs": [
    {
     "data": {
      "image/png": "[encoded data removed]",
      "text/plain": [
       "<Figure size 432x288 with 1 Axes>"
      ]
     },
     "metadata": {
      "needs_background": "light"
     },
     "output_type": "display_data"
    }
   ],
   "source": [
    "plt.scatter(y_test, y_pred, alpha=0.5)\n",
    "plt.xlabel(\"y_test\")\n",
    "plt.ylabel(\"y_pred\")\n",
    "plt.show()"
   ]
  },
  {
   "cell_type": "code",
   "execution_count": 138,
   "metadata": {},
   "outputs": [
    {
     "name": "stdout",
     "output_type": "stream",
     "text": [
      "MAE :  15678.105561608345 Ru = 203.81537230090848 USD\n",
      "MSE :  787578572.7186682 Ru = 10238521.445342686 USD\n",
      "RMSE: 28063.830328710803 Ru = 364.8297942732404 USD\n"
     ]
    }
   ],
   "source": [
    "# Metrics\n",
    "\n",
    "print(f\"MAE :  {metrics.mean_absolute_error(y_test, y_pred)} Ru = {metrics.mean_absolute_error(y_test, y_pred) * 0.013} USD\")\n",
    "print(f\"MSE :  {metrics.mean_squared_error(y_test, y_pred)} Ru = {metrics.mean_squared_error(y_test, y_pred) * 0.013} USD\")\n",
    "print(f\"RMSE: {np.sqrt(metrics.mean_squared_error(y_test, y_pred))} Ru = {np.sqrt(metrics.mean_squared_error(y_test, y_pred))* 0.013} USD\")"
   ]
  },
  {
   "cell_type": "code",
   "execution_count": null,
   "metadata": {},
   "outputs": [],
   "source": []
  },
  {
   "cell_type": "markdown",
   "metadata": {},
   "source": [
    "## Hyperparameter Tuning"
   ]
  },
  {
   "cell_type": "code",
   "execution_count": 140,
   "metadata": {},
   "outputs": [],
   "source": [
    "from sklearn.model_selection import RandomizedSearchCV"
   ]
  },
  {
   "cell_type": "code",
   "execution_count": 165,
   "metadata": {},
   "outputs": [],
   "source": [
    "learning_rate = [0.1, 0.2, 0.3]\n",
    "n_estimators = [int(x) for x in np.linspace(start=100, stop=1200, num=12)]\n",
    "max_depth = [int(x) for x in np.linspace(3, 30, num=10)]\n",
    "min_samples_split  = [2, 5, 10, 15, 100]\n",
    "min_samples_leaf = [1, 2, 5, 10]"
   ]
  },
  {
   "cell_type": "code",
   "execution_count": 167,
   "metadata": {},
   "outputs": [],
   "source": [
    "random_grid = {\n",
    "               'regressor__learning_rate': learning_rate,\n",
    "               'regressor__n_estimators': n_estimators,\n",
    "               'regressor__max_depth': max_depth,\n",
    "               'regressor__min_samples_split': min_samples_split,\n",
    "               'regressor__min_samples_leaf': min_samples_leaf\n",
    "                }"
   ]
  },
  {
   "cell_type": "code",
   "execution_count": 169,
   "metadata": {},
   "outputs": [],
   "source": [
    "gbr_random = RandomizedSearchCV(estimator=best_model.best_estimator_, param_distributions=random_grid, \n",
    "                                scoring='neg_mean_squared_error', n_iter=10, cv=5, n_jobs=-1, verbose=2)"
   ]
  },
  {
   "cell_type": "code",
   "execution_count": 170,
   "metadata": {},
   "outputs": [
    {
     "name": "stdout",
     "output_type": "stream",
     "text": [
      "Fitting 5 folds for each of 10 candidates, totalling 50 fits\n"
     ]
    },
    {
     "data": {
      "text/plain": [
       "RandomizedSearchCV(cv=5,\n",
       "                   estimator=Pipeline(steps=[('col_trans',\n",
       "                                              ColumnTransformer(transformers=[('num',\n",
       "                                                                               PowerTransformer(),\n",
       "                                                                               ['motor_size',\n",
       "                                                                                'years',\n",
       "                                                                                'kms_driven',\n",
       "                                                                                'mileage',\n",
       "                                                                                'power']),\n",
       "                                                                              ('cat',\n",
       "                                                                               OneHotEncoder(handle_unknown='ignore'),\n",
       "                                                                               ['brand_name',\n",
       "                                                                                'model_name'])])),\n",
       "                                             ('regressor',\n",
       "                                              GradientBoostingRegressor())]),\n",
       "                   n_jobs=-1,\n",
       "                   param_distributions={'regressor__learning_rate': [0.1, 0.2,\n",
       "                                                                     0.3],\n",
       "                                        'regressor__max_depth': [3, 6, 9, 12,\n",
       "                                                                 15, 18, 21, 24,\n",
       "                                                                 27, 30],\n",
       "                                        'regressor__min_samples_leaf': [1, 2, 5,\n",
       "                                                                        10],\n",
       "                                        'regressor__min_samples_split': [2, 5,\n",
       "                                                                         10, 15,\n",
       "                                                                         100],\n",
       "                                        'regressor__n_estimators': [100, 200,\n",
       "                                                                    300, 400,\n",
       "                                                                    500, 600,\n",
       "                                                                    700, 800,\n",
       "                                                                    900, 1000,\n",
       "                                                                    1100,\n",
       "                                                                    1200]},\n",
       "                   scoring='neg_mean_squared_error', verbose=2)"
      ]
     },
     "execution_count": 170,
     "metadata": {},
     "output_type": "execute_result"
    }
   ],
   "source": [
    "gbr_random.fit(X_train, y_train)"
   ]
  },
  {
   "cell_type": "code",
   "execution_count": 171,
   "metadata": {},
   "outputs": [
    {
     "data": {
      "text/plain": [
       "{'regressor__n_estimators': 1200,\n",
       " 'regressor__min_samples_split': 15,\n",
       " 'regressor__min_samples_leaf': 5,\n",
       " 'regressor__max_depth': 3,\n",
       " 'regressor__learning_rate': 0.1}"
      ]
     },
     "execution_count": 171,
     "metadata": {},
     "output_type": "execute_result"
    }
   ],
   "source": [
    "gbr_random.best_params_"
   ]
  },
  {
   "cell_type": "code",
   "execution_count": 172,
   "metadata": {},
   "outputs": [],
   "source": [
    "predictions = gbr_random.predict(X_test)"
   ]
  },
  {
   "cell_type": "code",
   "execution_count": 173,
   "metadata": {},
   "outputs": [
    {
     "data": {
      "image/png": "[encoded data removed]",
      "text/plain": [
       "<Figure size 576x576 with 1 Axes>"
      ]
     },
     "metadata": {
      "needs_background": "light"
     },
     "output_type": "display_data"
    }
   ],
   "source": [
    "plt.figure(figsize=(8,8))\n",
    "sns.distplot(y_test - predictions)\n",
    "plt.show()"
   ]
  },
  {
   "cell_type": "code",
   "execution_count": 174,
   "metadata": {},
   "outputs": [
    {
     "data": {
      "image/png": "[encoded data removed]",
      "text/plain": [
       "<Figure size 576x576 with 1 Axes>"
      ]
     },
     "metadata": {
      "needs_background": "light"
     },
     "output_type": "display_data"
    }
   ],
   "source": [
    "plt.figure(figsize=(8, 8))\n",
    "plt.scatter(y_test, predictions, alpha=0.5)\n",
    "plt.xlabel(\"y_test\")\n",
    "plt.ylabel(\"y_pred\")\n",
    "plt.show()"
   ]
  },
  {
   "cell_type": "code",
   "execution_count": 175,
   "metadata": {},
   "outputs": [
    {
     "name": "stdout",
     "output_type": "stream",
     "text": [
      "MAE :  14593.40068301642 Ru = 189.71420887921346 USD\n",
      "MSE :  927252544.4339836 Ru = 12054283.077641785 USD\n",
      "RMSE: 30450.821736596594 Ru = 395.8606825757557 USD\n"
     ]
    }
   ],
   "source": [
    "# Metrics\n",
    "\n",
    "print(f\"MAE :  {metrics.mean_absolute_error(y_test, predictions)} Ru = {metrics.mean_absolute_error(y_test, predictions) * 0.013} USD\")\n",
    "print(f\"MSE :  {metrics.mean_squared_error(y_test, predictions)} Ru = {metrics.mean_squared_error(y_test, predictions) * 0.013} USD\")\n",
    "print(f\"RMSE: {np.sqrt(metrics.mean_squared_error(y_test, predictions))} Ru = {np.sqrt(metrics.mean_squared_error(y_test, predictions))* 0.013} USD\")"
   ]
  },
  {
   "cell_type": "code",
   "execution_count": 176,
   "metadata": {},
   "outputs": [
    {
     "data": {
      "text/plain": [
       "0.903512762403638"
      ]
     },
     "execution_count": 176,
     "metadata": {},
     "output_type": "execute_result"
    }
   ],
   "source": [
    "metrics.r2_score(y_test, predictions)"
   ]
  },
  {
   "cell_type": "markdown",
   "metadata": {},
   "source": [
    "In this case the default options was better as optimized hyperparams"
   ]
  },
  {
   "cell_type": "markdown",
   "metadata": {},
   "source": [
    "## Save the model"
   ]
  },
  {
   "cell_type": "code",
   "execution_count": 177,
   "metadata": {},
   "outputs": [],
   "source": [
    "import pickle"
   ]
  },
  {
   "cell_type": "code",
   "execution_count": 179,
   "metadata": {},
   "outputs": [],
   "source": [
    "# open a file\n",
    "file = open('../models/used_motorcycles_prices.pkl', 'wb')\n",
    "\n",
    "# dump information\n",
    "pickle.dump(best_model, file)"
   ]
  }
 ],
 "metadata": {
  "interpreter": {
   "hash": "96c175eed2da5a849ea3d6d496fe7f46b333d566cae929cc6451c9762efc2f58"
  },
  "kernelspec": {
   "display_name": "Python 3.10.1 64-bit ('motorcycles-prices': conda)",
   "language": "python",
   "name": "python3"
  },
  "language_info": {
   "codemirror_mode": {
    "name": "ipython",
    "version": 3
   },
   "file_extension": ".py",
   "mimetype": "text/x-python",
   "name": "python",
   "nbconvert_exporter": "python",
   "pygments_lexer": "ipython3",
   "version": "3.6.15"
  },
  "orig_nbformat": 4
 },
 "nbformat": 4,
 "nbformat_minor": 2
}
